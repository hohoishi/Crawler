{
 "cells": [
  {
   "cell_type": "code",
   "execution_count": null,
   "metadata": {},
   "outputs": [],
   "source": [
    "import os\n",
    "import json\n",
    "import urllib.request as req\n",
    "import pandas as pd\n",
    "\n",
    "\n",
    "for i in range(1):\n",
    "    month = i + 1\n",
    "    dirname = \"google/{}\".format(month)\n",
    "    if not os.path.exists(dirname):\n",
    "        os.makedirs(dirname)\n",
    "    \n",
    "    url = \"https://www.google.com/doodles/json/2023/{}?hl=zh-TW\".format(month)\n",
    "    response = req.urlopen(url)\n",
    "    pics = json.load(response) #這是一個list\n",
    "    #save to json \n",
    "    fp = dirname + '/data.json'\n",
    "    f = open(fp, 'w', encoding='utf-8')\n",
    "    json.dump(pics, f, ensure_ascii=False, indent=4) # indent : 縮排\n",
    "    f.close()\n",
    "    #save to csv\n",
    "    fp = dirname + '/data.csv'\n",
    "    df = pd.json_normalize(pics)\n",
    "    df.to_csv(fp, encoding='utf-8', index=False)\n",
    "\n",
    "\n",
    "    #下載圖片\n",
    "    for p in pics:\n",
    "        img = \"https:\" + p[\"high_res_url\"]\n",
    "        print(p[\"title\"])\n",
    "        print(img)\n",
    "        fp = dirname + \"/\" + img.split(\"/\")[-1]\n",
    "        req.urlretrieve(img, fp)\n",
    "        print(\"-\" * 30)"
   ]
  }
 ],
 "metadata": {
  "kernelspec": {
   "display_name": "Python 3",
   "language": "python",
   "name": "python3"
  },
  "language_info": {
   "codemirror_mode": {
    "name": "ipython",
    "version": 3
   },
   "file_extension": ".py",
   "mimetype": "text/x-python",
   "name": "python",
   "nbconvert_exporter": "python",
   "pygments_lexer": "ipython3",
   "version": "3.11.9"
  }
 },
 "nbformat": 4,
 "nbformat_minor": 2
}
