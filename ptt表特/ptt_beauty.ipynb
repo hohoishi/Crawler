{
 "cells": [
  {
   "cell_type": "code",
   "execution_count": null,
   "metadata": {},
   "outputs": [],
   "source": [
    "# from urllib.request import urlopen , Request\n",
    "# from bs4 import BeautifulSoup \n",
    "# url = 'https://www.ptt.cc/bbs/Beauty/M.1713188700.A.E31.html'\n",
    "# r = Request(url)\n",
    "# r.add_header('User-Agent','Mozilla/5.0 (Windows NT 10.0; Win64; x64) AppleWebKit/537.36 (KHTML, like Gecko) Chrome/123.0.0.0 Safari/537.36 Edg/123.0.0.0')\n",
    "# r.add_header('Cookie', 'over18=1')\n",
    "# response = urlopen(r)\n",
    "# html = BeautifulSoup(response)\n",
    "# print(html)"
   ]
  },
  {
   "cell_type": "code",
   "execution_count": 2,
   "metadata": {},
   "outputs": [],
   "source": [
    "from urllib.request import urlopen , Request\n",
    "from bs4 import BeautifulSoup \n",
    "import requests\n",
    "import os\n",
    "\n",
    "def post_download(url):\n",
    "    # url = 'https://www.ptt.cc/bbs/Beauty/M.1713327887.A.3DA.html'\n",
    "    header = {'User-Agent':'',\n",
    "            'Cookie' :'over18=1' }\n",
    "    dirname = os.path.join('beauty/',url.split('/')[-1] )\n",
    "    if not os.path.exists(dirname):\n",
    "        os.makedirs(dirname)\n",
    "    response = requests.get(url , headers=header)\n",
    "    html = BeautifulSoup(response.text)\n",
    "    links = html.find_all('a')\n",
    "    reserved = ['img' ,'png','jpg','jpeg','gif']\n",
    "    for l in links :\n",
    "        href = l['href']\n",
    "        sub = href.split('.')[-1]\n",
    "        if sub.lower() in reserved:\n",
    "            print('下載', href)\n",
    "            fp = os.path.join(dirname, href.split('/')[-1])\n",
    "            response = requests.get(href, stream=True, headers=header) #多加header因為變嚴格\n",
    "            img = response.raw.read()\n",
    "            f = open(fp, 'wb')\n",
    "            f.write(img)\n",
    "            f.close()\n",
    "        \n",
    "        print('-'*30)"
   ]
  },
  {
   "cell_type": "code",
   "execution_count": 3,
   "metadata": {},
   "outputs": [
    {
     "name": "stdout",
     "output_type": "stream",
     "text": [
      "------------------------------\n",
      "------------------------------\n",
      "------------------------------\n",
      "------------------------------\n",
      "------------------------------\n",
      "下載 https://i.imgur.com/Of0R8dy.jpeg\n",
      "------------------------------\n",
      "下載 https://i.imgur.com/1BsWxfv.jpeg\n",
      "------------------------------\n",
      "下載 https://i.imgur.com/1id5qYk.jpeg\n",
      "------------------------------\n",
      "下載 https://i.imgur.com/z6SYmyO.jpeg\n",
      "------------------------------\n",
      "下載 https://i.imgur.com/Ktlai3B.jpeg\n",
      "------------------------------\n",
      "下載 https://i.imgur.com/I9mUJeD.jpeg\n",
      "------------------------------\n",
      "下載 https://i.imgur.com/zcEMZxs.jpeg\n",
      "------------------------------\n",
      "------------------------------\n"
     ]
    }
   ],
   "source": [
    "post_download('https://www.ptt.cc/bbs/Beauty/M.1713389554.A.452.html')"
   ]
  }
 ],
 "metadata": {
  "kernelspec": {
   "display_name": "Python 3",
   "language": "python",
   "name": "python3"
  },
  "language_info": {
   "codemirror_mode": {
    "name": "ipython",
    "version": 3
   },
   "file_extension": ".py",
   "mimetype": "text/x-python",
   "name": "python",
   "nbconvert_exporter": "python",
   "pygments_lexer": "ipython3",
   "version": "3.11.9"
  }
 },
 "nbformat": 4,
 "nbformat_minor": 2
}
