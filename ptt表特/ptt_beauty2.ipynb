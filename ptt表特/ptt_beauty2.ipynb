{
 "cells": [
  {
   "cell_type": "code",
   "execution_count": 2,
   "metadata": {},
   "outputs": [
    {
     "name": "stdout",
     "output_type": "stream",
     "text": [
      "https://www.ptt.cc//bbs/Beauty/M.1713386669.A.2CA.html\n",
      "https://www.ptt.cc//bbs/Beauty/M.1713389554.A.452.html\n",
      "https://www.ptt.cc//bbs/Beauty/M.1713397329.A.013.html\n",
      "https://www.ptt.cc//bbs/Beauty/M.1713407876.A.8F8.html\n",
      "https://www.ptt.cc//bbs/Beauty/M.1713422059.A.A8B.html\n",
      "https://www.ptt.cc//bbs/Beauty/M.1713422090.A.C7A.html\n",
      "https://www.ptt.cc//bbs/Beauty/M.1713426480.A.A65.html\n",
      "https://www.ptt.cc//bbs/Beauty/M.1663845030.A.EF9.html\n",
      "https://www.ptt.cc//bbs/Beauty/M.1621836193.A.468.html\n",
      "https://www.ptt.cc//bbs/Beauty/M.1666371664.A.B29.html\n"
     ]
    }
   ],
   "source": [
    "from urllib.request import urlopen , Request\n",
    "from bs4 import BeautifulSoup \n",
    "import requests\n",
    "from ptt_beauty import post_download\n",
    "\n",
    "\n",
    "url = 'https://www.ptt.cc/bbs/Beauty/index4003.html'\n",
    "header = {'User-Agent':'',\n",
    "         'Cookie' :'over18=1' }\n",
    "response = requests.get(url , headers=header)\n",
    "html = BeautifulSoup(response.text)\n",
    "title = html.find_all('div', {'class':'title'})\n",
    "    \n",
    "for t in title:\n",
    "    if t.find('a'):\n",
    "        href = 'https://www.ptt.cc/' + t.find('a')['href']\n",
    "        print(href)\n",
    "        post_download(href)"
   ]
  }
 ],
 "metadata": {
  "kernelspec": {
   "display_name": "Python 3",
   "language": "python",
   "name": "python3"
  },
  "language_info": {
   "codemirror_mode": {
    "name": "ipython",
    "version": 3
   },
   "file_extension": ".py",
   "mimetype": "text/x-python",
   "name": "python",
   "nbconvert_exporter": "python",
   "pygments_lexer": "ipython3",
   "version": "3.11.9"
  }
 },
 "nbformat": 4,
 "nbformat_minor": 2
}
